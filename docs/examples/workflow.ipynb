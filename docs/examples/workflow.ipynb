{
 "cells": [
  {
   "cell_type": "markdown",
   "metadata": {},
   "source": [
    "# Workflow"
   ]
  },
  {
   "cell_type": "code",
   "execution_count": null,
   "metadata": {},
   "outputs": [],
   "source": [
    "# Collect Parameters\n",
    "params = dict()"
   ]
  },
  {
   "cell_type": "code",
   "execution_count": null,
   "metadata": {},
   "outputs": [],
   "source": [
    "from pathlib import Path\n",
    "from enum import Enum\n",
    "from ess.nmx.loader import InputFileName\n",
    "\n",
    "class FileNames(Enum):\n",
    "    \"\"\"Enum class for file names.\"\"\"\n",
    "    file1 = '2e11.h5'\n",
    "    file2 = 'x0_3d.h5'\n",
    "    file3 = 'xe_0_NMX.h5'\n",
    "    file4 = 'xe_20_NMX.h5'\n",
    "    file5 = 'flip_det.h5'\n",
    "    file6 = 'flip_4.h5'\n",
    "    file7 = 'ye_0_NMX.h5'\n",
    "    file8 = 'xe1_12_NMX/xe1_12_no_chunk.h5'\n",
    "    file9 = '1d.h5'\n",
    "    file10 = 'xflat20.h5'\n",
    "    file11 = 'small_vis/flat.nxs'\n",
    "    file12 = 'small_vis/shift_down.nxs'\n",
    "    file13 = 'mc2_7_2_test.h5'\n",
    "    file14 = 'mc2_new_comp.nxs'\n",
    "    file15 = 'xflat20.h5'\n",
    "    file16 = 'flat_h_r.h5'\n",
    "    file17 = 'flat_v_u.h5'\n",
    "    file18 = 'NMX_long.h5'\n",
    "    file19 = 'pulse5.h5'\n",
    "    file20 = 'pulse5_y.h5'\n",
    "    file21 = 'wavelength.h5'\n",
    "    file22 = 'wavelength_short1.h5'\n",
    "    file23 = 'pulse5_z.h5'\n",
    "    file24 = 'nexus-v3_2-with_detectors_stageZ_and_one_axis5.h5'\n",
    "    file25 = 'xflat20.h5'\n",
    "\n",
    "fname = 23\n",
    "data_dir = Path('/home/sunyoung/ESS/data/nmx/')\n",
    "\n",
    "file_name = getattr(FileNames, f\"file{fname}\").value\n",
    "file_path = data_dir / Path(file_name)\n",
    "f_vis_path = data_dir / Path(file_name.replace('.h5', '_vis.nxs'))\n",
    "\n",
    "params[InputFileName] = str(file_path.absolute())\n",
    "print(f\"Read from: {file_path}\")\n",
    "print(f\"Write results into: {f_vis_path}\")"
   ]
  },
  {
   "cell_type": "code",
   "execution_count": null,
   "metadata": {},
   "outputs": [],
   "source": [
    "# f=snx.File(filename)"
   ]
  },
  {
   "cell_type": "code",
   "execution_count": null,
   "metadata": {},
   "outputs": [],
   "source": [
    "from ess.nmx.detector import NumberOfDetectors, MaxNumberOfPixelsPerAxis, PixelStep\n",
    "from ess.nmx.loader import MaximumPropability\n",
    "from ess.nmx.reduction import TimeBinStep\n",
    "\n",
    "# Number of pixels per detectpr dimension\n",
    "params[MaxNumberOfPixelsPerAxis] = 1280\n",
    "params[PixelStep] = 100\n",
    "\n",
    "# Number of time bins \n",
    "params[TimeBinStep] = 1\n",
    "\n",
    "# Number of detectors\n",
    "params[NumberOfDetectors] = 1\n",
    "\n",
    "# Normalising highest prop-ability to \n",
    "params[MaximumPropability] = 100000\n",
    "\n",
    "print(f\"Data points in output: \", params[MaxNumberOfPixelsPerAxis]**2*3)"
   ]
  },
  {
   "cell_type": "markdown",
   "metadata": {},
   "source": [
    "Pretreatment to make it faster <br>\n",
    "not needed with new McStas versions\n",
    "\n",
    "```bash\n",
    "h5repack -l CHUNK=1024x6 2e11.h5 2e11-rechunk.h5\n",
    "# or\n",
    "h5repack -l CHUNK=NONE 2e11.h5 2e11-nochunk.h5\n",
    "# or\n",
    "h5repack -l CHUNK=1024x6 mccode.h5 mccode-nochunk.h5 \n",
    "```\n",
    "\n",
    "Test data filename must be the exact file to use for this step of data reduction."
   ]
  },
  {
   "cell_type": "code",
   "execution_count": null,
   "metadata": {},
   "outputs": [],
   "source": [
    "import scipp as sc\n",
    "\n",
    "# Parameters to load the file:\n",
    "sc.DataGroup({param_t.__name__: val for param_t, val in params.items()})"
   ]
  },
  {
   "cell_type": "code",
   "execution_count": null,
   "metadata": {},
   "outputs": [],
   "source": [
    "import sciline as sl\n",
    "from ess.nmx.loader import providers as loader_providers\n",
    "from ess.nmx.loader import FileTypeMcStas, Events\n",
    "from ess.nmx.reduction import providers as reduction_providers\n",
    "from ess.nmx.reduction import default_params\n",
    "\n",
    "pl = sl.Pipeline([*loader_providers, *reduction_providers], params={**params, **default_params})\n",
    "file_type = FileTypeMcStas\n",
    "graph = pl.get(Events[FileTypeMcStas]).visualize(graph_attr={'rankdir': 'LR'})\n",
    "graph.render('example', 'png')\n",
    "graph"
   ]
  },
  {
   "cell_type": "code",
   "execution_count": null,
   "metadata": {},
   "outputs": [],
   "source": [
    "# from ess.nmx.loader import FileTypeMcStas, Events, TList, IDList\n",
    "# results = pl.get((TList[file_type], IDList[file_type], Events[file_type])).compute()\n",
    "# t_list = results[TList[file_type]].value\n",
    "# id_list = results[IDList[file_type]].value\n",
    "# da = results[Events[file_type]].value\n",
    "\n",
    "# print(\"t-list range: [\", t_list.min().value, \", \", t_list.max().value, \"]\")\n",
    "# print(\"id-list range: [\", id_list.min().value, \", \", id_list.max().value, \"]\")"
   ]
  },
  {
   "cell_type": "code",
   "execution_count": null,
   "metadata": {},
   "outputs": [],
   "source": [
    "# da"
   ]
  },
  {
   "cell_type": "code",
   "execution_count": null,
   "metadata": {},
   "outputs": [],
   "source": [
    "from ess.nmx.reduction import Grouped\n",
    "\n",
    "graph = pl.get(Grouped[file_type]).visualize(graph_attr={'rankdir': 'LR'})\n",
    "graph.render('example', format='png')\n",
    "graph"
   ]
  },
  {
   "cell_type": "code",
   "execution_count": null,
   "metadata": {},
   "outputs": [],
   "source": [
    "# grouped = pl.get(Grouped[file_type]).compute()\n",
    "# grouped"
   ]
  },
  {
   "cell_type": "code",
   "execution_count": null,
   "metadata": {},
   "outputs": [],
   "source": [
    "from ess.nmx.reduction import TimeBinned\n",
    "\n",
    "graph = pl.get(TimeBinned[file_type]).visualize(graph_attr={'rankdir': 'LR'})\n",
    "graph.render('time_binning_graph', format='png')\n",
    "graph"
   ]
  },
  {
   "cell_type": "code",
   "execution_count": null,
   "metadata": {},
   "outputs": [],
   "source": [
    "# time_binned = pl.get(TimeBinned[file_type]).compute()\n",
    "# time_binned"
   ]
  }
 ],
 "metadata": {
  "kernelspec": {
   "display_name": "nmx-dev-39",
   "language": "python",
   "name": "python3"
  },
  "language_info": {
   "codemirror_mode": {
    "name": "ipython",
    "version": 3
   },
   "file_extension": ".py",
   "mimetype": "text/x-python",
   "name": "python",
   "nbconvert_exporter": "python",
   "pygments_lexer": "ipython3",
   "version": "3.9.18"
  }
 },
 "nbformat": 4,
 "nbformat_minor": 2
}

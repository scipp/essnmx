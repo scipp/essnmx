{
 "cells": [
  {
   "cell_type": "markdown",
   "metadata": {},
   "source": [
    "# Workflow\n",
    "\n",
    "There are two workflows for NMX, one for simulation and one for measurement data. <br>\n",
    "This page will show simulation data workflow as an example. <br>\n",
    "They are written with ``sciline``, so we will show how to collect ``providers`` and ``parameters`` to build a workflow pipeline and compute the required result. <br>\n",
    "\n",
    "First, we will set up scipp logging widget in the notebook."
   ]
  },
  {
   "cell_type": "code",
   "execution_count": null,
   "metadata": {},
   "outputs": [],
   "source": [
    "# Logging widget\n",
    "from scipp.logging import get_log_widget, make_widget_handler, get_logger, WidgetHandler\n",
    "\n",
    "sc_logger = get_logger()\n",
    "if not any([hdlr for hdlr in sc_logger.handlers if isinstance(hdlr, WidgetHandler)]):\n",
    "    sc_logger.addHandler(make_widget_handler())\n",
    "    sc_logger.setLevel('DEBUG')\n",
    "    sc_logger.info('NMX Data reduction - part 1.')\n",
    "\n",
    "get_log_widget()"
   ]
  },
  {
   "cell_type": "markdown",
   "metadata": {},
   "source": [
    "## TL;DR\n",
    "\n",
    "If you don't need to replace any providers or parameters, you can use the pre-defined pipeline."
   ]
  },
  {
   "cell_type": "code",
   "execution_count": null,
   "metadata": {},
   "outputs": [],
   "source": [
    "import sciline as sl\n",
    "from ess.nmx.workflow import collect_default_parameters, providers\n",
    "from ess.nmx.loader import FileTypeMcStas, InputFileName, MaximumPropability, DefaultMaximumPropability\n",
    "from ess.nmx.data import small_mcstas_sample\n",
    "from ess.nmx.reduction import TimeBinned, TimeBinStep\n",
    "\n",
    "file_path = small_mcstas_sample()  # Replace it with your data file path\n",
    "\n",
    "nmx_workflow = sl.Pipeline(list(providers), params={\n",
    "                            **collect_default_parameters(),\n",
    "                            MaximumPropability: DefaultMaximumPropability,\n",
    "                            TimeBinStep: TimeBinStep(1),\n",
    "                            InputFileName: InputFileName(file_path),\n",
    "                        })\n",
    "\n",
    "time_binned = nmx_workflow.compute(TimeBinned[FileTypeMcStas])\n",
    "time_binned"
   ]
  },
  {
   "cell_type": "markdown",
   "metadata": {},
   "source": [
    "Pretreatment to make it faster <br>\n",
    "not needed with new McStas versions\n",
    "\n",
    "```bash\n",
    "h5repack -l CHUNK=1024x6 2e11.h5 2e11-rechunk.h5\n",
    "# or\n",
    "h5repack -l CHUNK=NONE 2e11.h5 2e11-nochunk.h5\n",
    "# or\n",
    "h5repack -l CHUNK=1024x6 mccode.h5 mccode-nochunk.h5 \n",
    "```\n",
    "\n",
    "Test data filename must be the exact file to use for this step of data reduction."
   ]
  },
  {
   "cell_type": "markdown",
   "metadata": {},
   "source": [
    "## Collect Providers and Parameters\n",
    "\n",
    "There are helpers to collect providers and default parameters in ``ess.nmx.workflow`` module. <br>\n",
    "If you need to replace any parameters, you can replace them in the dictionary and use it to build a pipeline. <br>\n",
    "``build_workflow`` helper also accepts certain types as an argument to build a pipeline with, but not all types are supported by this helper. "
   ]
  },
  {
   "cell_type": "code",
   "execution_count": null,
   "metadata": {},
   "outputs": [],
   "source": [
    "import scipp as sc\n",
    "from ess.nmx.workflow import collect_default_parameters, providers\n",
    "from ess.nmx.loader import InputFileName\n",
    "\n",
    "# Collect Parameters\n",
    "# ``TimeBinStep`` and ``InputFileName`` are not included in the default parameters.\n",
    "params = {\n",
    "    **collect_default_parameters(),\n",
    "    TimeBinStep: TimeBinStep(1),\n",
    "    InputFileName: small_mcstas_sample()\n",
    "}\n",
    "\n",
    "# Parameters to run the workflow:\n",
    "sc.DataGroup({param_t.__name__: val for param_t, val in params.items()})\n"
   ]
  },
  {
   "cell_type": "markdown",
   "metadata": {},
   "source": [
    "## Build Pipeline"
   ]
  },
  {
   "cell_type": "code",
   "execution_count": null,
   "metadata": {},
   "outputs": [],
   "source": [
    "import sciline as sl\n",
    "from ess.nmx.loader import FileTypeMcStas\n",
    "from ess.nmx.reduction import TimeBinned\n",
    "\n",
    "pl = sl.Pipeline(\n",
    "    list(providers),\n",
    "    params=params\n",
    ")\n",
    "\n",
    "file_type = FileTypeMcStas\n",
    "mcstas_workflow_graph = pl.get(TimeBinned[FileTypeMcStas])\n",
    "mcstas_workflow_diagram = mcstas_workflow_graph.visualize(graph_attr={'rankdir': 'LR'})\n",
    "mcstas_workflow_diagram.render('mcstas_workflow_graph', 'png')\n",
    "mcstas_workflow_diagram"
   ]
  },
  {
   "cell_type": "markdown",
   "metadata": {},
   "source": [
    "## Compute\n",
    "\n",
    "You can compute a certain type from the graph."
   ]
  },
  {
   "cell_type": "code",
   "execution_count": null,
   "metadata": {},
   "outputs": [],
   "source": [
    "time_binned = mcstas_workflow_graph.compute(TimeBinned[FileTypeMcStas])\n",
    "time_binned"
   ]
  },
  {
   "cell_type": "markdown",
   "metadata": {},
   "source": [
    "You can also compute more than 1 type at the same time. <br>\n",
    "Then ``compute`` returns a dictionary of requested types."
   ]
  },
  {
   "cell_type": "code",
   "execution_count": null,
   "metadata": {},
   "outputs": [],
   "source": [
    "from ess.nmx.reduction import GroupedByPixelID\n",
    "\n",
    "multiple_results = pl.get((GroupedByPixelID[file_type], TimeBinned[file_type])).compute()\n",
    "grouped = multiple_results[GroupedByPixelID[file_type]]\n",
    "\n",
    "grouped"
   ]
  }
 ],
 "metadata": {
  "kernelspec": {
   "display_name": "nmx-dev-39",
   "language": "python",
   "name": "python3"
  },
  "language_info": {
   "codemirror_mode": {
    "name": "ipython",
    "version": 3
   },
   "file_extension": ".py",
   "mimetype": "text/x-python",
   "name": "python",
   "nbconvert_exporter": "python",
   "pygments_lexer": "ipython3",
   "version": "3.9.18"
  }
 },
 "nbformat": 4,
 "nbformat_minor": 2
}

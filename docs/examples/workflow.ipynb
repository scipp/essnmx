{
 "cells": [
  {
   "cell_type": "markdown",
   "metadata": {},
   "source": [
    "# Workflow\n",
    "\n",
    "## Collect Parameters and Providers\n",
    "### Simulation(McStas) Data\n",
    "There is a dedicated loader, ``load_mcstas_nexus`` for ``McStas`` simulation data workflow. <br>\n",
    "``MaximumProbability`` can be manually provided to the loader to derive more realistic number of events. <br>\n",
    "It is because ``weights`` are given as probability, not number of events in a McStas file. <br>"
   ]
  },
  {
   "cell_type": "code",
   "execution_count": null,
   "metadata": {},
   "outputs": [],
   "source": [
    "# Collect parameters and providers\n",
    "import scipp as sc\n",
    "from ess.nmx.mcstas_loader import load_mcstas_nexus, load_mcstas_geometry\n",
    "from ess.nmx.mcstas_loader import (\n",
    "    InputFilepath,\n",
    "    MaximumProbability,\n",
    "    DefaultMaximumProbability,\n",
    "    DetectorGeometry\n",
    ")\n",
    "from ess.nmx.data import small_mcstas_sample\n",
    "\n",
    "providers = (load_mcstas_nexus, load_mcstas_geometry)\n",
    "\n",
    "file_path = small_mcstas_sample()  # Replace it with your data file path\n",
    "params = {\n",
    "    InputFilepath: InputFilepath(file_path),\n",
    "    # Additional parameters for McStas data handling.\n",
    "    MaximumProbability: DefaultMaximumProbability,\n",
    "}"
   ]
  },
  {
   "cell_type": "code",
   "execution_count": null,
   "metadata": {},
   "outputs": [],
   "source": [
    "from typing import get_type_hints\n",
    "param_reprs = {key.__name__: value for key, value in params.items()}\n",
    "prov_reprs = {get_type_hints(prov)['return'].__name__: prov.__name__ for prov in providers}\n",
    "\n",
    "# Providers and parameters to be used for pipeline\n",
    "sc.DataGroup(**prov_reprs, **param_reprs)"
   ]
  },
  {
   "cell_type": "markdown",
   "metadata": {},
   "source": [
    "## Build Workflow"
   ]
  },
  {
   "cell_type": "code",
   "execution_count": null,
   "metadata": {},
   "outputs": [],
   "source": [
    "import sciline as sl\n",
    "from ess.nmx.mcstas_loader import NMXData\n",
    "\n",
    "nmx_pl = sl.Pipeline(list(providers), params=params)\n",
    "nmx_workflow = nmx_pl.get((NMXData, DetectorGeometry))\n",
    "nmx_workflow.visualize()"
   ]
  },
  {
   "cell_type": "markdown",
   "metadata": {},
   "source": [
    "## Compute Desired Types"
   ]
  },
  {
   "cell_type": "code",
   "execution_count": null,
   "metadata": {},
   "outputs": [],
   "source": [
    "# Event data grouped by detector panel and pixel id.\n",
    "da = nmx_workflow.compute(NMXData)\n",
    "da"
   ]
  },
  {
   "cell_type": "code",
   "execution_count": null,
   "metadata": {},
   "outputs": [],
   "source": [
    "geometry = nmx_workflow.compute(DetectorGeometry)\n",
    "geometry"
   ]
  }
 ],
 "metadata": {
  "kernelspec": {
   "display_name": "nmx-dev-39",
   "language": "python",
   "name": "python3"
  },
  "language_info": {
   "codemirror_mode": {
    "name": "ipython",
    "version": 3
   },
   "file_extension": ".py",
   "mimetype": "text/x-python",
   "name": "python",
   "nbconvert_exporter": "python",
   "pygments_lexer": "ipython3",
   "version": "3.9.18"
  }
 },
 "nbformat": 4,
 "nbformat_minor": 2
}

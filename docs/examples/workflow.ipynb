{
 "cells": [
  {
   "cell_type": "markdown",
   "metadata": {},
   "source": [
    "# Workflow\n",
    "\n",
    "There are two workflows for NMX, one for simulation and one for measurement data. <br>\n",
    "This page will show simulation data workflow as an example. <br>\n",
    "They are written with ``sciline``, so we will show how to collect ``providers`` and ``parameters`` <br>\n",
    "to build a workflow pipeline and compute the required result. <br>"
   ]
  },
  {
   "cell_type": "code",
   "execution_count": null,
   "metadata": {},
   "outputs": [],
   "source": [
    "# scipp logging widget to see intermediate results.\n",
    "from scipp.logging import get_log_widget, make_widget_handler, get_logger, WidgetHandler\n",
    "\n",
    "sc_logger = get_logger()\n",
    "if not any([hdlr for hdlr in sc_logger.handlers if isinstance(hdlr, WidgetHandler)]):\n",
    "    sc_logger.addHandler(make_widget_handler())\n",
    "    sc_logger.setLevel('DEBUG')\n",
    "    sc_logger.info('NMX Data reduction - part 1.')\n",
    "\n",
    "get_log_widget()"
   ]
  },
  {
   "cell_type": "markdown",
   "metadata": {},
   "source": [
    "## TL;DR\n",
    "\n",
    "This cell shows how build a pipeline and use it to compute a ``TimeBinned`` histogram with file type of ``FileTypeMcStas``."
   ]
  },
  {
   "cell_type": "code",
   "execution_count": null,
   "metadata": {},
   "outputs": [],
   "source": [
    "import sciline as sl\n",
    "from ess.nmx.workflow import collect_default_parameters, providers\n",
    "from ess.nmx.loader import InputFileName, MaximumProbability, DefaultMaximumProbability\n",
    "from ess.nmx.data import small_mcstas_sample\n",
    "from ess.nmx.reduction import TimeBinned, TimeBinStep, get_intervals_mcstas\n",
    "from ess.nmx.logging import get_logger as get_nmx_logger\n",
    "\n",
    "file_path = small_mcstas_sample()  # Replace it with your data file path\n",
    "\n",
    "nmx_workflow = sl.Pipeline(list(providers)+[get_nmx_logger, get_intervals_mcstas],\n",
    "                           params={\n",
    "                            **collect_default_parameters(),\n",
    "                            MaximumProbability: DefaultMaximumProbability,\n",
    "                            TimeBinStep: TimeBinStep(1),\n",
    "                            InputFileName: InputFileName(file_path),\n",
    "                        })\n",
    "\n",
    "time_binned = nmx_workflow.compute(TimeBinned)\n",
    "time_binned"
   ]
  },
  {
   "cell_type": "markdown",
   "metadata": {},
   "source": [
    "Pretreatment to make it faster <br>\n",
    "not needed with new McStas versions\n",
    "\n",
    "```bash\n",
    "h5repack -l CHUNK=1024x6 2e11.h5 2e11-rechunk.h5\n",
    "# or\n",
    "h5repack -l CHUNK=NONE 2e11.h5 2e11-nochunk.h5\n",
    "# or\n",
    "h5repack -l CHUNK=1024x6 mccode.h5 mccode-nochunk.h5 \n",
    "```\n",
    "\n",
    "Test data filename must be the exact file to use for this step of data reduction."
   ]
  },
  {
   "cell_type": "markdown",
   "metadata": {},
   "source": [
    "## Collect Providers and Parameters\n",
    "\n",
    "There is a helper to collect default parameters and collection of all providers in ``ess.nmx.workflow`` module. <br>\n",
    "If you need to replace any parameters, you can replace them in the dictionary and use it to build a pipeline. <br>\n",
    "For example, in order to load McStas events, you can set which schema to use by setting ``McStasEventDataSchema`` as a parameter."
   ]
  },
  {
   "cell_type": "code",
   "execution_count": null,
   "metadata": {},
   "outputs": [],
   "source": [
    "import scipp as sc\n",
    "from ess.nmx.workflow import collect_default_parameters, providers\n",
    "from ess.nmx.loader import InputFileName\n",
    "from ess.nmx.loader import McStasEventDataSchema, DefaultMcStasEventDataSchema, MaximumProbability, DefaultMaximumProbability\n",
    "\n",
    "# Collect Parameters\n",
    "# ``TimeBinStep`` and ``InputFileName`` are not included in the default parameters.\n",
    "params = {\n",
    "    **collect_default_parameters(),\n",
    "    TimeBinStep: TimeBinStep(1),\n",
    "    InputFileName: small_mcstas_sample(),\n",
    "    MaximumProbability: DefaultMaximumProbability,\n",
    "    McStasEventDataSchema: DefaultMcStasEventDataSchema  \n",
    "}\n",
    "\n",
    "# Parameters to run the workflow:\n",
    "sc.DataGroup({param_t.__name__: val for param_t, val in params.items()})\n"
   ]
  },
  {
   "cell_type": "markdown",
   "metadata": {},
   "source": [
    "## Build Pipeline\n",
    "\n",
    "To read McStas file, you might need to insert more providers. <br>\n",
    "Otherwise, it will use default parameters."
   ]
  },
  {
   "cell_type": "code",
   "execution_count": null,
   "metadata": {},
   "outputs": [],
   "source": [
    "import sciline as sl\n",
    "from ess.nmx.reduction import TimeBinned\n",
    "\n",
    "pl = sl.Pipeline(\n",
    "    list(providers)+[get_intervals_mcstas],\n",
    "    params=params\n",
    ")\n",
    "\n",
    "mcstas_workflow_graph = pl.get(TimeBinned)\n",
    "mcstas_workflow_diagram = mcstas_workflow_graph.visualize()\n",
    "mcstas_workflow_diagram.render('mcstas_workflow_graph', 'png')\n",
    "mcstas_workflow_diagram"
   ]
  },
  {
   "cell_type": "markdown",
   "metadata": {},
   "source": [
    "## Compute\n",
    "\n",
    "You can compute a certain type from the graph."
   ]
  },
  {
   "cell_type": "code",
   "execution_count": null,
   "metadata": {},
   "outputs": [],
   "source": [
    "time_binned = mcstas_workflow_graph.compute(TimeBinned)\n",
    "time_binned"
   ]
  },
  {
   "cell_type": "markdown",
   "metadata": {},
   "source": [
    "You can also compute more than 1 type at the same time. <br>\n",
    "Then ``compute`` returns a dictionary of requested types."
   ]
  },
  {
   "cell_type": "code",
   "execution_count": null,
   "metadata": {},
   "outputs": [],
   "source": [
    "from ess.nmx.reduction import GroupedByPixelID\n",
    "\n",
    "multiple_results = pl.get((GroupedByPixelID, TimeBinned)).compute()\n",
    "grouped = multiple_results[GroupedByPixelID]\n",
    "\n",
    "grouped"
   ]
  }
 ],
 "metadata": {
  "kernelspec": {
   "display_name": "nmx-dev-39",
   "language": "python",
   "name": "python3"
  },
  "language_info": {
   "codemirror_mode": {
    "name": "ipython",
    "version": 3
   },
   "file_extension": ".py",
   "mimetype": "text/x-python",
   "name": "python",
   "nbconvert_exporter": "python",
   "pygments_lexer": "ipython3",
   "version": "3.9.18"
  }
 },
 "nbformat": 4,
 "nbformat_minor": 2
}

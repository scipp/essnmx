{
 "cells": [
  {
   "cell_type": "markdown",
   "metadata": {},
   "source": [
    "# Scaling\n",
    "\n",
    "## MTZ IO\n",
    "\n",
    "``ess.nmx`` has ``MTZ`` IO helper functions.\n",
    "They can be used as providers in a workflow of scaling routine.\n",
    "\n",
    "They are wrapping ``MTZ`` IO functions of ``gemmi``."
   ]
  },
  {
   "cell_type": "code",
   "execution_count": null,
   "metadata": {},
   "outputs": [],
   "source": [
    "from ess.nmx.mtz_io import read_mtz_file, mtz_to_pandas, MTZFilePath\n",
    "from ess.nmx.data import get_small_mtz_samples\n",
    "\n",
    "\n",
    "small_mtz_sample = get_small_mtz_samples()[0]\n",
    "mtz = read_mtz_file(MTZFilePath(small_mtz_sample))\n",
    "df = mtz_to_pandas(mtz)\n",
    "df.head()"
   ]
  },
  {
   "cell_type": "markdown",
   "metadata": {},
   "source": [
    "## Build Pipeline\n",
    "\n",
    "Scaling routine includes:\n",
    "- Reducing individual MTZ dataset\n",
    "- Merging MTZ dataset \n",
    "- Reducing merged MTZ dataset\n",
    "\n",
    "These operations are done on pandas dataframe as recommended in ``gemmi``.\n",
    "And multiple MTZ files are expected, so we need to use ``sciline.ParamTable``.\n",
    "<!--TODO: Update it to use cyclebane instead of ParamTable if needed.-->"
   ]
  },
  {
   "cell_type": "code",
   "execution_count": null,
   "metadata": {},
   "outputs": [],
   "source": [
    "import sciline as sl\n",
    "from ess.nmx.mtz_io import mtz_io_providers, mtz_io_params\n",
    "from ess.nmx.mtz_io import MTZFileIndex, SpaceGroupDesc\n",
    "from ess.nmx.scaling import scaling_providers\n",
    "from ess.nmx.scaling import WavelengthBinSize, WavelengthScaled\n",
    "\n",
    "pl = sl.Pipeline(\n",
    "    providers=mtz_io_providers+scaling_providers,\n",
    "    params={\n",
    "        SpaceGroupDesc: \"C 1 2 1\",  # Replace with the correct space group if needed\n",
    "        WavelengthBinSize: 50,  # Replace with the correct bin size if needed\n",
    "        **mtz_io_params\n",
    "    },\n",
    ")\n",
    "\n",
    "file_path_table = sl.ParamTable(\n",
    "    row_dim=MTZFileIndex, columns={MTZFilePath: get_small_mtz_samples()}\n",
    ")\n",
    "\n",
    "pl.set_param_table(file_path_table)\n",
    "pl"
   ]
  },
  {
   "cell_type": "markdown",
   "metadata": {},
   "source": [
    "## Build Workflow"
   ]
  },
  {
   "cell_type": "code",
   "execution_count": null,
   "metadata": {},
   "outputs": [],
   "source": [
    "scaling_nmx_workflow = pl.get(WavelengthScaled)\n",
    "scaling_nmx_workflow.visualize(graph_attr={\"rankdir\": \"LR\"})"
   ]
  },
  {
   "cell_type": "markdown",
   "metadata": {},
   "source": [
    "## Compute Desired Type"
   ]
  },
  {
   "cell_type": "code",
   "execution_count": null,
   "metadata": {},
   "outputs": [],
   "source": [
    "scaled = scaling_nmx_workflow.compute(WavelengthScaled)\n",
    "scaled"
   ]
  }
 ],
 "metadata": {
  "kernelspec": {
   "display_name": "nmx-dev-310",
   "language": "python",
   "name": "python3"
  },
  "language_info": {
   "codemirror_mode": {
    "name": "ipython",
    "version": 3
   },
   "file_extension": ".py",
   "mimetype": "text/x-python",
   "name": "python",
   "nbconvert_exporter": "python",
   "pygments_lexer": "ipython3",
   "version": "3.10.13"
  }
 },
 "nbformat": 4,
 "nbformat_minor": 2
}

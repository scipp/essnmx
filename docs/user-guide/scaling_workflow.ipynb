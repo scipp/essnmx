{
 "cells": [
  {
   "cell_type": "markdown",
   "metadata": {},
   "source": [
    "# Scaling\n",
    "\n",
    "## MTZ IO\n",
    "\n",
    "``ess.nmx`` has ``MTZ`` IO helper functions.\n",
    "They can be used as providers in a workflow of scaling routine.\n",
    "\n",
    "They are wrapping ``MTZ`` IO functions of ``gemmi``."
   ]
  },
  {
   "cell_type": "code",
   "execution_count": null,
   "metadata": {},
   "outputs": [],
   "source": [
    "%matplotlib inline"
   ]
  },
  {
   "cell_type": "code",
   "execution_count": null,
   "metadata": {},
   "outputs": [],
   "source": [
    "import gemmi\n",
    "from ess.nmx.mtz_io import (\n",
    "    read_mtz_file,\n",
    "    mtz_to_pandas,\n",
    "    MTZFilePath,\n",
    "    get_unique_space_group,\n",
    "    MtzDataFrame,\n",
    "    merge_mtz_dataframes,\n",
    ")\n",
    "from ess.nmx.data import get_small_random_mtz_samples\n",
    "\n",
    "\n",
    "small_mtz_sample = get_small_random_mtz_samples()[0]\n",
    "mtz = read_mtz_file(MTZFilePath(small_mtz_sample))\n",
    "df = mtz_to_pandas(mtz)\n",
    "df.head()"
   ]
  },
  {
   "cell_type": "markdown",
   "metadata": {},
   "source": [
    "## Build Pipeline\n",
    "\n",
    "Scaling routine includes:\n",
    "- Reducing individual MTZ dataset\n",
    "- Merging MTZ dataset \n",
    "- Reducing merged MTZ dataset\n",
    "\n",
    "These operations are done on pandas dataframe as recommended in ``gemmi``.\n",
    "And multiple MTZ files are expected, so we need to use ``sciline.ParamTable``.\n",
    "<!--TODO: Update it to use cyclebane instead of ParamTable if needed.-->"
   ]
  },
  {
   "cell_type": "code",
   "execution_count": null,
   "metadata": {},
   "outputs": [],
   "source": [
    "import pandas as pd\n",
    "import sciline as sl\n",
    "import scipp as sc\n",
    "\n",
    "from ess.nmx.mtz_io import providers as mtz_io_providers, default_parameters as mtz_io_params\n",
    "from ess.nmx.mtz_io import SpaceGroupDesc\n",
    "from ess.nmx.scaling import providers as scaling_providers, default_parameters as scaling_params\n",
    "from ess.nmx.scaling import (\n",
    "    WavelengthBins,\n",
    "    FilteredEstimatedScaledIntensities,\n",
    "    ReferenceWavelength,\n",
    "    ScaledIntensityLeftTailThreshold,\n",
    "    ScaledIntensityRightTailThreshold,\n",
    ")\n",
    "\n",
    "pl = sl.Pipeline(\n",
    "    providers=mtz_io_providers + scaling_providers,\n",
    "    params={\n",
    "        SpaceGroupDesc: \"C 1 2 1\",\n",
    "        ReferenceWavelength: sc.scalar(\n",
    "            3, unit=sc.units.angstrom\n",
    "        ),  # Remove it if you want to use the middle of the bin\n",
    "        ScaledIntensityLeftTailThreshold: sc.scalar(\n",
    "            0.1,  # Increase it to remove more outliers\n",
    "        ),\n",
    "        ScaledIntensityRightTailThreshold: sc.scalar(\n",
    "            4.0,  # Decrease it to remove more outliers\n",
    "        ),\n",
    "        **mtz_io_params,\n",
    "        **scaling_params,\n",
    "        WavelengthBins: 250,\n",
    "    },\n",
    ")\n",
    "pl"
   ]
  },
  {
   "cell_type": "code",
   "execution_count": null,
   "metadata": {},
   "outputs": [],
   "source": [
    "file_paths = pd.DataFrame({MTZFilePath: get_small_random_mtz_samples()}).rename_axis(\n",
    "    \"mtzfile\"\n",
    ")\n",
    "mapped = pl.map(file_paths)\n",
    "pl[gemmi.SpaceGroup] = mapped[gemmi.SpaceGroup | None].reduce(\n",
    "    index='mtzfile', func=get_unique_space_group\n",
    ")\n",
    "pl[MtzDataFrame] = mapped[MtzDataFrame].reduce(\n",
    "    index='mtzfile', func=merge_mtz_dataframes\n",
    ")"
   ]
  },
  {
   "cell_type": "markdown",
   "metadata": {},
   "source": [
    "## Build Workflow"
   ]
  },
  {
   "cell_type": "code",
   "execution_count": null,
   "metadata": {},
   "outputs": [],
   "source": [
    "from ess.nmx.scaling import WavelengthScaleFactors\n",
    "\n",
    "scaling_nmx_workflow = pl.get(WavelengthScaleFactors)\n",
    "scaling_nmx_workflow.visualize(graph_attr={\"rankdir\": \"LR\"})"
   ]
  },
  {
   "cell_type": "markdown",
   "metadata": {},
   "source": [
    "## Compute Desired Type"
   ]
  },
  {
   "cell_type": "code",
   "execution_count": null,
   "metadata": {},
   "outputs": [],
   "source": [
    "from ess.nmx.scaling import (\n",
    "    SelectedReferenceWavelength,\n",
    "    FittingResult,\n",
    "    WavelengthScaleFactors,\n",
    ")\n",
    "\n",
    "results = scaling_nmx_workflow.compute(\n",
    "    (\n",
    "        FilteredEstimatedScaledIntensities,\n",
    "        SelectedReferenceWavelength,\n",
    "        FittingResult,\n",
    "        WavelengthScaleFactors,\n",
    "    )\n",
    ")\n",
    "\n",
    "results[WavelengthScaleFactors]"
   ]
  },
  {
   "cell_type": "markdown",
   "metadata": {},
   "source": [
    "## Plots\n",
    "\n",
    "Here are plotting examples of the fitting/estimation results.\n",
    "\n",
    "### Estimated Scaled Intensities."
   ]
  },
  {
   "cell_type": "code",
   "execution_count": null,
   "metadata": {},
   "outputs": [],
   "source": [
    "import scipy.stats as stats\n",
    "import matplotlib.pyplot as plt\n",
    "\n",
    "fig, (density_ax, prob_ax) = plt.subplots(1, 2, figsize=(10, 5))\n",
    "\n",
    "densities = sc.values(results[FilteredEstimatedScaledIntensities].data).values\n",
    "sc.values(results[FilteredEstimatedScaledIntensities].data).hist(intensity=50).plot(\n",
    "    title=\"Filtered Estimated Scaled Intensities\\nDensity Plot\",\n",
    "    grid=True,\n",
    "    linewidth=3,\n",
    "    ax=density_ax,\n",
    ")\n",
    "stats.probplot(densities, dist=\"norm\", plot=prob_ax)\n",
    "prob_ax.set_title(\"Filtered Estimated Scaled Intensities\\nProbability Plot\")"
   ]
  },
  {
   "cell_type": "markdown",
   "metadata": {},
   "source": [
    "### Curve Fitting"
   ]
  },
  {
   "cell_type": "code",
   "execution_count": null,
   "metadata": {},
   "outputs": [],
   "source": [
    "import plopp as pp\n",
    "import numpy as np\n",
    "from ess.nmx.scaling import FittingResult\n",
    "\n",
    "chebyshev_func = np.polynomial.chebyshev.Chebyshev(np.array([1, -1, 1]))\n",
    "scale_function = np.vectorize(\n",
    "    chebyshev_func / chebyshev_func(results[SelectedReferenceWavelength].value)\n",
    ")\n",
    "pp.plot(\n",
    "    {\n",
    "        \"Original Data\": results[FilteredEstimatedScaledIntensities],\n",
    "        \"Fit Result\": results[FittingResult].fit_output,\n",
    "    },\n",
    "    grid=True,\n",
    "    title=\"Fit Result [Intensities vs Wavelength]\",\n",
    "    marker={\"Chebyshev\": None, \"Fit Result\": None},\n",
    "    linestyle={\"Chebyshev\": \"solid\", \"Fit Result\": \"solid\"},\n",
    ")"
   ]
  },
  {
   "cell_type": "code",
   "execution_count": null,
   "metadata": {},
   "outputs": [],
   "source": [
    "reference_wavelength = sc.DataArray(\n",
    "    data=sc.concat(\n",
    "        [\n",
    "            results[WavelengthScaleFactors].data.min(),\n",
    "            results[WavelengthScaleFactors].data.max(),\n",
    "        ],\n",
    "        \"wavelength\",\n",
    "    ),\n",
    "    coords={\n",
    "        \"wavelength\": sc.broadcast(\n",
    "            results[SelectedReferenceWavelength], dims=[\"wavelength\"], shape=[2]\n",
    "        )\n",
    "    },\n",
    ")\n",
    "wavelength_scale_factor_plot = pp.plot(\n",
    "    {\n",
    "        \"scale_factor\": results[WavelengthScaleFactors],\n",
    "        \"reference_wavelength\": reference_wavelength,\n",
    "    },\n",
    "    title=\"Wavelength Scale Factors\",\n",
    "    grid=True,\n",
    "    marker={\"reference_wavelength\": None},\n",
    "    linestyle={\"reference_wavelength\": \"solid\"},\n",
    ")\n",
    "wavelength_scale_factor_plot.ax.set_xlim(2.8, 3.2)\n",
    "reference_wavelength = results[SelectedReferenceWavelength].value\n",
    "wavelength_scale_factor_plot.ax.text(\n",
    "    3.0,\n",
    "    0.25,\n",
    "    f\"{reference_wavelength=:} [{results[SelectedReferenceWavelength].unit}]\",\n",
    "    fontsize=8,\n",
    "    color=\"black\",\n",
    ")\n",
    "wavelength_scale_factor_plot"
   ]
  },
  {
   "cell_type": "markdown",
   "metadata": {},
   "source": [
    "## Change Provider\n",
    "Here is an example of how to insert different filter function.\n",
    "\n",
    "In this example, we will swap a provider that filters ``EstimatedScaledIntensities`` and provide ``FilteredEstimatedScaledIntensities``.\n",
    "\n",
    "After updating the providers, you can go back to [Compute Desired Type](#Compute-Desired-Type) and start over."
   ]
  },
  {
   "cell_type": "code",
   "execution_count": null,
   "metadata": {},
   "outputs": [],
   "source": [
    "from typing import NewType\n",
    "import scipp as sc\n",
    "from ess.nmx.scaling import (\n",
    "    EstimatedScaledIntensities,\n",
    "    FilteredEstimatedScaledIntensities,\n",
    ")\n",
    "\n",
    "# Define the new types for the filtering function\n",
    "NRoot = NewType(\"NRoot\", int)\n",
    "\"\"\"The n-th root to be taken for the standard deviation.\"\"\"\n",
    "NRootStdDevCut = NewType(\"NRootStdDevCut\", float)\n",
    "\"\"\"The number of standard deviations to be cut from the n-th root data.\"\"\"\n",
    "\n",
    "\n",
    "def _calculate_sample_standard_deviation(var: sc.Variable) -> sc.Variable:\n",
    "    \"\"\"Calculate the sample variation of the data.\n",
    "\n",
    "    This helper function is a temporary solution before\n",
    "    we release new scipp version with the statistics helper.\n",
    "    \"\"\"\n",
    "    import numpy as np\n",
    "\n",
    "    return sc.scalar(np.nanstd(var.values))\n",
    "\n",
    "\n",
    "# Define the filtering function with right argument types and return type\n",
    "def cut_estimated_scaled_intensities_by_n_root_std_dev(\n",
    "    scaled_intensities: EstimatedScaledIntensities,\n",
    "    n_root: NRoot,\n",
    "    n_root_std_dev_cut: NRootStdDevCut,\n",
    ") -> FilteredEstimatedScaledIntensities:\n",
    "    \"\"\"Filter the mtz data array by the quad root of the sample standard deviation.\n",
    "\n",
    "    Parameters\n",
    "    ----------\n",
    "    scaled_intensities:\n",
    "        The scaled intensities to be filtered.\n",
    "\n",
    "    n_root:\n",
    "        The n-th root to be taken for the standard deviation.\n",
    "        Higher n-th root means cutting is more effective on the right tail.\n",
    "        More explanation can be found in the notes.\n",
    "\n",
    "    n_root_std_dev_cut:\n",
    "        The number of standard deviations to be cut from the n-th root data.\n",
    "\n",
    "    Returns\n",
    "    -------\n",
    "    :\n",
    "        The filtered scaled intensities.\n",
    "\n",
    "    \"\"\"\n",
    "    # Check the range of the n-th root\n",
    "    if n_root < 1:\n",
    "        raise ValueError(\"The n-th root should be equal to or greater than 1.\")\n",
    "\n",
    "    copied = scaled_intensities.copy(deep=False)\n",
    "    nth_root = copied.data ** (1 / n_root)\n",
    "    # Calculate the mean\n",
    "    nth_root_mean = nth_root.nanmean()\n",
    "    # Calculate the sample standard deviation\n",
    "    nth_root_std_dev = _calculate_sample_standard_deviation(nth_root)\n",
    "    # Calculate the cut value\n",
    "    half_window = n_root_std_dev_cut * nth_root_std_dev\n",
    "    keep_range = (nth_root_mean - half_window, nth_root_mean + half_window)\n",
    "\n",
    "    # Filter the data\n",
    "    return FilteredEstimatedScaledIntensities(\n",
    "        copied[(nth_root > keep_range[0]) & (nth_root < keep_range[1])]\n",
    "    )\n",
    "\n",
    "\n",
    "pl.insert(cut_estimated_scaled_intensities_by_n_root_std_dev)\n",
    "pl[NRoot] = 4\n",
    "pl[NRootStdDevCut] = 1.0\n",
    "\n",
    "pl.compute(FilteredEstimatedScaledIntensities)"
   ]
  }
 ],
 "metadata": {
  "kernelspec": {
   "display_name": "Python 3 (ipykernel)",
   "language": "python",
   "name": "python3"
  },
  "language_info": {
   "codemirror_mode": {
    "name": "ipython",
    "version": 3
   },
   "file_extension": ".py",
   "mimetype": "text/x-python",
   "name": "python",
   "nbconvert_exporter": "python",
   "pygments_lexer": "ipython3",
   "version": "3.10.12"
  }
 },
 "nbformat": 4,
 "nbformat_minor": 4
}
